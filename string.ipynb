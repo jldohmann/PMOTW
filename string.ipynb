{
 "cells": [
  {
   "cell_type": "markdown",
   "metadata": {},
   "source": [
    "# string — Text Constants and Template"
   ]
  },
  {
   "cell_type": "markdown",
   "metadata": {},
   "source": [
    "### Contains constants and classes for working with text"
   ]
  },
  {
   "cell_type": "markdown",
   "metadata": {},
   "source": [
    "- most functions in this module have been moved to methods of `str` objects\n",
    "- current `string` module contains constants and classes for working with `str` objects"
   ]
  },
  {
   "cell_type": "code",
   "execution_count": 1,
   "metadata": {},
   "outputs": [],
   "source": [
    "import string"
   ]
  },
  {
   "cell_type": "markdown",
   "metadata": {},
   "source": [
    "## Examples"
   ]
  },
  {
   "cell_type": "markdown",
   "metadata": {},
   "source": [
    "#### Functions in this module:"
   ]
  },
  {
   "cell_type": "markdown",
   "metadata": {},
   "source": [
    "Use the `capwords()` function to capitalize all words in a string:"
   ]
  },
  {
   "cell_type": "code",
   "execution_count": 2,
   "metadata": {},
   "outputs": [],
   "source": [
    "s = 'This is a string that contains words, which will soon be capitalized.'"
   ]
  },
  {
   "cell_type": "code",
   "execution_count": 3,
   "metadata": {},
   "outputs": [
    {
     "name": "stdout",
     "output_type": "stream",
     "text": [
      "This is a string that contains words, which will soon be capitalized.\n",
      "This Is A String That Contains Words, Which Will Soon Be Capitalized.\n"
     ]
    }
   ],
   "source": [
    "print(s)\n",
    "print(string.capwords(s))"
   ]
  },
  {
   "cell_type": "markdown",
   "metadata": {},
   "source": [
    "#### Template class:"
   ]
  },
  {
   "cell_type": "markdown",
   "metadata": {},
   "source": [
    "Templates, with their `substitute()` method, can be used as an alternative to built-in interpolation syntax:\n",
    "- interpolation can be literal (f-strings)\n",
    "- interpolation can be done with `%` operator"
   ]
  },
  {
   "cell_type": "code",
   "execution_count": 8,
   "metadata": {},
   "outputs": [],
   "source": [
    "d = {'var':'blank'}"
   ]
  },
  {
   "cell_type": "code",
   "execution_count": 11,
   "metadata": {},
   "outputs": [
    {
     "name": "stdout",
     "output_type": "stream",
     "text": [
      "TEMPLATE: \n",
      "Variable        : blank\n",
      "Escape          : $\n",
      "Variable in text: blankiable\n",
      "\n"
     ]
    }
   ],
   "source": [
    "# templated variable needs to match key name\n",
    "t = string.Template(\"\"\"\n",
    "Variable        : $var\n",
    "Escape          : $$\n",
    "Variable in text: ${var}iable\n",
    "\"\"\")\n",
    "\n",
    "print('TEMPLATE:', t.substitute(d))"
   ]
  },
  {
   "cell_type": "code",
   "execution_count": 13,
   "metadata": {},
   "outputs": [
    {
     "name": "stdout",
     "output_type": "stream",
     "text": [
      "INTERPOLATION: \n",
      "Variable        : blank\n",
      "Escape          : %\n",
      "Variable in text: blankiable\n",
      "\n"
     ]
    }
   ],
   "source": [
    "# same as above but using % operator\n",
    "s = \"\"\"\n",
    "Variable        : %(var)s\n",
    "Escape          : %%\n",
    "Variable in text: %(var)siable\n",
    "\"\"\"\n",
    "\n",
    "print('INTERPOLATION:', s % d)"
   ]
  },
  {
   "cell_type": "code",
   "execution_count": 14,
   "metadata": {},
   "outputs": [
    {
     "name": "stdout",
     "output_type": "stream",
     "text": [
      "FORMAT: \n",
      "Variable        : blank\n",
      "Escape          : {}\n",
      "Variable in text: blankiable\n",
      "\n"
     ]
    }
   ],
   "source": [
    "# same as above with f-strings\n",
    "fs = \"\"\"\n",
    "Variable        : {var}\n",
    "Escape          : {{}}\n",
    "Variable in text: {var}iable\n",
    "\"\"\"\n",
    "\n",
    "print('FORMAT:', fs.format(**d))"
   ]
  },
  {
   "cell_type": "markdown",
   "metadata": {},
   "source": [
    "- Major different between templates and string interpolation (`%`) or formatting (f-string) is that type of arguments are ignored\n",
    "- This means that no formatting options are available since the values are converted to strings and inserted into the result\n",
    "- E.g.; no way to control the number of digits used to represent a floating point number as an argument\n",
    "- Use of the `safe_substitute()` method makes it possible to avoid errors (aka exceptions) if not all of the values needed by the template are provided as arguments by the user:"
   ]
  },
  {
   "cell_type": "code",
   "execution_count": 15,
   "metadata": {},
   "outputs": [
    {
     "name": "stdout",
     "output_type": "stream",
     "text": [
      "ERROR: 'missing'\n",
      "safe_substitute(): blank is given but $missing is not.\n"
     ]
    }
   ],
   "source": [
    "new_t = string.Template(\"$var is given but $missing is not.\")\n",
    "\n",
    "try:\n",
    "    print('substitute()    :', new_t.substitute(d))\n",
    "except KeyError as err:\n",
    "    print('ERROR:', str(err))\n",
    "\n",
    "print('safe_substitute():', new_t.safe_substitute(d))"
   ]
  },
  {
   "cell_type": "markdown",
   "metadata": {},
   "source": [
    "#### Advanced templates:"
   ]
  },
  {
   "cell_type": "code",
   "execution_count": null,
   "metadata": {},
   "outputs": [],
   "source": []
  }
 ],
 "metadata": {
  "kernelspec": {
   "display_name": "Python 3",
   "language": "python",
   "name": "python3"
  },
  "language_info": {
   "codemirror_mode": {
    "name": "ipython",
    "version": 3
   },
   "file_extension": ".py",
   "mimetype": "text/x-python",
   "name": "python",
   "nbconvert_exporter": "python",
   "pygments_lexer": "ipython3",
   "version": "3.8.2"
  }
 },
 "nbformat": 4,
 "nbformat_minor": 4
}
